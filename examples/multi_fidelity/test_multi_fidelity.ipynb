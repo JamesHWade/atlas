{
 "cells": [
  {
   "cell_type": "code",
   "execution_count": 5,
   "id": "f0c29424",
   "metadata": {},
   "outputs": [],
   "source": [
    "import os\n",
    "import torch\n",
    "from botorch.test_functions.multi_fidelity import AugmentedHartmann\n",
    "\n",
    "from botorch.models.gp_regression_fidelity import SingleTaskMultiFidelityGP\n",
    "from botorch.models.transforms.outcome import Standardize\n",
    "from gpytorch.mlls.exact_marginal_log_likelihood import ExactMarginalLogLikelihood\n",
    "\n",
    "from botorch import fit_gpytorch_mll\n",
    "from botorch.models.cost import AffineFidelityCostModel\n",
    "from botorch.acquisition.cost_aware import InverseCostWeightedUtility\n",
    "from botorch.acquisition import PosteriorMean\n",
    "from botorch.acquisition.knowledge_gradient import qMultiFidelityKnowledgeGradient\n",
    "from botorch.acquisition.fixed_feature import FixedFeatureAcquisitionFunction\n",
    "from botorch.optim.optimize import optimize_acqf\n",
    "from botorch.acquisition.utils import project_to_target_fidelity\n",
    "\n",
    "from botorch.optim.optimize import optimize_acqf_mixed\n",
    "\n",
    "from botorch.acquisition import qExpectedImprovement\n",
    "\n",
    "\n",
    "tkwargs = {\n",
    "    \"dtype\": torch.double,\n",
    "    \"device\": torch.device(\"cuda\" if torch.cuda.is_available() else \"cpu\"),\n",
    "}\n",
    "SMOKE_TEST = os.environ.get(\"SMOKE_TEST\")"
   ]
  },
  {
   "cell_type": "code",
   "execution_count": 9,
   "id": "efaba2ae",
   "metadata": {},
   "outputs": [],
   "source": [
    "problem = AugmentedHartmann(negate=True).to(**tkwargs)\n",
    "fidelities = torch.tensor([0.5, 0.75, 1.0], **tkwargs)\n",
    "\n",
    "bounds = torch.tensor([[0.0] * problem.dim, [1.0] * problem.dim], **tkwargs)\n",
    "target_fidelities = {6: 1.0}"
   ]
  },
  {
   "cell_type": "code",
   "execution_count": 10,
   "id": "1509f0f7",
   "metadata": {},
   "outputs": [],
   "source": [
    "def generate_initial_data(n=16):\n",
    "    # generate training data\n",
    "    train_x = torch.rand(n, 6, **tkwargs)\n",
    "    train_f = fidelities[torch.randint(3, (n, 1))]\n",
    "    train_x_full = torch.cat((train_x, train_f), dim=1)\n",
    "    train_obj = problem(train_x_full).unsqueeze(-1)  # add output dimension\n",
    "    return train_x_full, train_obj\n",
    "\n",
    "def initialize_model(train_x, train_obj):\n",
    "    # define a surrogate model suited for a \"training data\"-like fidelity parameter\n",
    "    # in dimension 6, as in [2]\n",
    "    model = SingleTaskMultiFidelityGP(\n",
    "        train_x, train_obj, outcome_transform=Standardize(m=1), data_fidelity=6\n",
    "    )\n",
    "    mll = ExactMarginalLogLikelihood(model.likelihood, model)\n",
    "    return mll, model"
   ]
  },
  {
   "cell_type": "code",
   "execution_count": null,
   "id": "8d945f6c",
   "metadata": {},
   "outputs": [],
   "source": [
    "cost_model = AffineFidelityCostModel(fidelity_weights={6: 1.0}, fixed_cost=5.0)\n",
    "cost_aware_utility = InverseCostWeightedUtility(cost_model=cost_model)"
   ]
  },
  {
   "cell_type": "code",
   "execution_count": null,
   "id": "08d026f0",
   "metadata": {},
   "outputs": [],
   "source": []
  },
  {
   "cell_type": "code",
   "execution_count": null,
   "id": "99025181",
   "metadata": {},
   "outputs": [],
   "source": []
  },
  {
   "cell_type": "code",
   "execution_count": null,
   "id": "dec6f2ca",
   "metadata": {},
   "outputs": [],
   "source": []
  },
  {
   "cell_type": "code",
   "execution_count": null,
   "id": "5b519440",
   "metadata": {},
   "outputs": [],
   "source": []
  }
 ],
 "metadata": {
  "kernelspec": {
   "display_name": "atlas_aag",
   "language": "python",
   "name": "atlas_aag"
  },
  "language_info": {
   "codemirror_mode": {
    "name": "ipython",
    "version": 3
   },
   "file_extension": ".py",
   "mimetype": "text/x-python",
   "name": "python",
   "nbconvert_exporter": "python",
   "pygments_lexer": "ipython3",
   "version": "3.10.12"
  }
 },
 "nbformat": 4,
 "nbformat_minor": 5
}
