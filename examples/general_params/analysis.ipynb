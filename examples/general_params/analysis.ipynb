{
 "cells": [
  {
   "cell_type": "code",
   "execution_count": 1,
   "id": "011071c0",
   "metadata": {},
   "outputs": [],
   "source": [
    "import pickle\n",
    "import numpy as np\n",
    "import pandas as pd\n",
    "import matplotlib.pyplot as plt\n",
    "import seaborn as sns\n",
    "\n",
    "from olympus.emulators import Emulator\n",
    "from olympus.scalarizers import Scalarizer\n",
    "\n",
    "from olympus.utils.misc import get_hypervolume"
   ]
  },
  {
   "cell_type": "code",
   "execution_count": 15,
   "id": "6e182579",
   "metadata": {
    "scrolled": true
   },
   "outputs": [
    {
     "name": "stdout",
     "output_type": "stream",
     "text": [
      "\u001b[0;37m[INFO] Loading emulator using a BayesNeuralNet model for the dataset suzuki_i...\n",
      "\u001b[0m"
     ]
    },
    {
     "name": "stderr",
     "output_type": "stream",
     "text": [
      "/Users/rileyhickman/mambaforge/envs/atlas_aag/lib/python3.10/site-packages/tensorflow_probability/python/layers/util.py:98: UserWarning: `layer.add_variable` is deprecated and will be removed in a future version. Please use the `layer.add_weight()` method instead.\n",
      "  loc = add_variable_fn(\n",
      "/Users/rileyhickman/mambaforge/envs/atlas_aag/lib/python3.10/site-packages/tensorflow_probability/python/layers/util.py:108: UserWarning: `layer.add_variable` is deprecated and will be removed in a future version. Please use the `layer.add_weight()` method instead.\n",
      "  untransformed_scale = add_variable_fn(\n"
     ]
    },
    {
     "name": "stdout",
     "output_type": "stream",
     "text": [
      "\u001b[0;37m[INFO] Loading emulator using a BayesNeuralNet model for the dataset suzuki_ii...\n",
      "\u001b[0m"
     ]
    },
    {
     "name": "stderr",
     "output_type": "stream",
     "text": [
      "/Users/rileyhickman/mambaforge/envs/atlas_aag/lib/python3.10/site-packages/tensorflow_probability/python/layers/util.py:98: UserWarning: `layer.add_variable` is deprecated and will be removed in a future version. Please use the `layer.add_weight()` method instead.\n",
      "  loc = add_variable_fn(\n",
      "/Users/rileyhickman/mambaforge/envs/atlas_aag/lib/python3.10/site-packages/tensorflow_probability/python/layers/util.py:108: UserWarning: `layer.add_variable` is deprecated and will be removed in a future version. Please use the `layer.add_weight()` method instead.\n",
      "  untransformed_scale = add_variable_fn(\n"
     ]
    },
    {
     "name": "stdout",
     "output_type": "stream",
     "text": [
      "\u001b[0;37m[INFO] Loading emulator using a BayesNeuralNet model for the dataset suzuki_iii...\n",
      "\u001b[0m"
     ]
    },
    {
     "name": "stderr",
     "output_type": "stream",
     "text": [
      "/Users/rileyhickman/mambaforge/envs/atlas_aag/lib/python3.10/site-packages/tensorflow_probability/python/layers/util.py:98: UserWarning: `layer.add_variable` is deprecated and will be removed in a future version. Please use the `layer.add_weight()` method instead.\n",
      "  loc = add_variable_fn(\n",
      "/Users/rileyhickman/mambaforge/envs/atlas_aag/lib/python3.10/site-packages/tensorflow_probability/python/layers/util.py:108: UserWarning: `layer.add_variable` is deprecated and will be removed in a future version. Please use the `layer.add_weight()` method instead.\n",
      "  untransformed_scale = add_variable_fn(\n"
     ]
    },
    {
     "name": "stdout",
     "output_type": "stream",
     "text": [
      "\u001b[0;37m[INFO] Loading emulator using a BayesNeuralNet model for the dataset suzuki_iv...\n",
      "\u001b[0m"
     ]
    },
    {
     "name": "stderr",
     "output_type": "stream",
     "text": [
      "/Users/rileyhickman/mambaforge/envs/atlas_aag/lib/python3.10/site-packages/tensorflow_probability/python/layers/util.py:98: UserWarning: `layer.add_variable` is deprecated and will be removed in a future version. Please use the `layer.add_weight()` method instead.\n",
      "  loc = add_variable_fn(\n",
      "/Users/rileyhickman/mambaforge/envs/atlas_aag/lib/python3.10/site-packages/tensorflow_probability/python/layers/util.py:108: UserWarning: `layer.add_variable` is deprecated and will be removed in a future version. Please use the `layer.add_weight()` method instead.\n",
      "  untransformed_scale = add_variable_fn(\n"
     ]
    }
   ],
   "source": [
    "emulator_i = Emulator(dataset='suzuki_i', model='BayesNeuralNet')\n",
    "emulator_ii = Emulator(dataset='suzuki_ii', model='BayesNeuralNet')\n",
    "emulator_iii = Emulator(dataset='suzuki_iii', model='BayesNeuralNet')\n",
    "emulator_iv = Emulator(dataset='suzuki_iv', model='BayesNeuralNet')"
   ]
  },
  {
   "cell_type": "code",
   "execution_count": 16,
   "id": "3e60ec95",
   "metadata": {},
   "outputs": [
    {
     "name": "stdout",
     "output_type": "stream",
     "text": [
      "Categorical (name='ligand', num_opts: 8, options=['L0', 'L1', 'L2', 'L3', 'L4', 'L5', 'L6', 'L7'], descriptors=[None, None, None, None, None, None, None, None])\n",
      "Continuous (name='res_time', low=60.0, high=600.0, is_periodic=False)\n",
      "Continuous (name='temperature', low=30.0, high=110.0, is_periodic=False)\n",
      "Continuous (name='catalyst_loading', low=0.498, high=2.515, is_periodic=False)\n"
     ]
    }
   ],
   "source": [
    "print(emulator_i.param_space)"
   ]
  },
  {
   "cell_type": "code",
   "execution_count": 24,
   "id": "ce705259",
   "metadata": {},
   "outputs": [],
   "source": [
    "# generate design points\n",
    "cat_options = ['L0', 'L1', 'L2', 'L3', 'L4', 'L5', 'L6', 'L7']\n",
    "\n",
    "NUM_POINTS = 10000\n",
    "\n",
    "X = []\n",
    "\n",
    "for _ in range(NUM_POINTS):\n",
    "    X_ = []\n",
    "    X_.append(np.random.choice(cat_options, size=None))\n",
    "    X_.append(np.random.uniform(60., 600., size=None))\n",
    "    X_.append(np.random.uniform(30., 110., size=None))\n",
    "    X_.append(np.random.uniform(0.498, 2.515, size=None))\n",
    "    X.append(X_)"
   ]
  },
  {
   "cell_type": "code",
   "execution_count": 25,
   "id": "79352420",
   "metadata": {
    "scrolled": true
   },
   "outputs": [
    {
     "name": "stderr",
     "output_type": "stream",
     "text": [
      "\u001b[1;33m[WARNING] Not all parameters of ['L5', 146.85203230416784, 38.10825400865375, 2.5147039326869365] are within bounds!\n",
      "\u001b[0m\u001b[1;33m[WARNING] Not all parameters are within bounds\n",
      "\u001b[0m\u001b[1;33m[WARNING] Not all parameters of ['L6', 292.9423010179735, 60.138234279162575, 2.5135282813631044] are within bounds!\n",
      "\u001b[0m\u001b[1;33m[WARNING] Not all parameters are within bounds\n",
      "\u001b[0m\u001b[1;33m[WARNING] Not all parameters of ['L3', 372.9364882483557, 52.044776104833126, 0.4982928002408879] are within bounds!\n",
      "\u001b[0m\u001b[1;33m[WARNING] Not all parameters are within bounds\n",
      "\u001b[0m\u001b[1;33m[WARNING] Not all parameters of ['L3', 197.29261511064192, 58.12831219555566, 2.514132695737998] are within bounds!\n",
      "\u001b[0m\u001b[1;33m[WARNING] Not all parameters are within bounds\n",
      "\u001b[0m\u001b[1;33m[WARNING] Not all parameters of ['L6', 427.38981048236104, 108.82620816582266, 2.5131987179204067] are within bounds!\n",
      "\u001b[0m\u001b[1;33m[WARNING] Not all parameters are within bounds\n",
      "\u001b[0m\u001b[1;33m[WARNING] Not all parameters of ['L1', 396.60558423350557, 109.45028615079858, 2.5144812707876554] are within bounds!\n",
      "\u001b[0m\u001b[1;33m[WARNING] Not all parameters are within bounds\n",
      "\u001b[0m\u001b[1;33m[WARNING] Not all parameters of ['L1', 275.4731977851375, 44.12369649409257, 2.514520143376722] are within bounds!\n",
      "\u001b[0m\u001b[1;33m[WARNING] Not all parameters are within bounds\n",
      "\u001b[0m\u001b[1;33m[WARNING] Not all parameters of ['L4', 177.619703632372, 84.29112275369857, 0.498502630995154] are within bounds!\n",
      "\u001b[0m\u001b[1;33m[WARNING] Not all parameters are within bounds\n",
      "\u001b[0m\u001b[1;33m[WARNING] Not all parameters of ['L5', 282.80616956103347, 44.44198818085546, 0.4983544231425602] are within bounds!\n",
      "\u001b[0m\u001b[1;33m[WARNING] Not all parameters are within bounds\n",
      "\u001b[0m\u001b[1;33m[WARNING] Not all parameters of ['L7', 286.01635934261935, 65.34150713735741, 2.514084695569154] are within bounds!\n",
      "\u001b[0m\u001b[1;33m[WARNING] Not all parameters are within bounds\n",
      "\u001b[0m\u001b[1;33m[WARNING] Not all parameters of ['L2', 251.2361645545999, 82.06625526222729, 2.5139998095156733] are within bounds!\n",
      "\u001b[0m\u001b[1;33m[WARNING] Not all parameters are within bounds\n",
      "\u001b[0m\u001b[1;33m[WARNING] Not all parameters of ['L5', 572.2300691111168, 89.02760613580489, 2.5135630929308865] are within bounds!\n",
      "\u001b[0m\u001b[1;33m[WARNING] Not all parameters are within bounds\n",
      "\u001b[0m\u001b[1;33m[WARNING] Not all parameters of ['L5', 146.85203230416784, 38.10825400865375, 2.5147039326869365] are within bounds!\n",
      "\u001b[0m\u001b[1;33m[WARNING] Not all parameters are within bounds\n",
      "\u001b[0m\u001b[1;33m[WARNING] Not all parameters of ['L6', 292.9423010179735, 60.138234279162575, 2.5135282813631044] are within bounds!\n",
      "\u001b[0m\u001b[1;33m[WARNING] Not all parameters are within bounds\n",
      "\u001b[0m\u001b[1;33m[WARNING] Not all parameters of ['L3', 197.29261511064192, 58.12831219555566, 2.514132695737998] are within bounds!\n",
      "\u001b[0m\u001b[1;33m[WARNING] Not all parameters are within bounds\n",
      "\u001b[0m\u001b[1;33m[WARNING] Not all parameters of ['L6', 427.38981048236104, 108.82620816582266, 2.5131987179204067] are within bounds!\n",
      "\u001b[0m\u001b[1;33m[WARNING] Not all parameters are within bounds\n",
      "\u001b[0m\u001b[1;33m[WARNING] Not all parameters of ['L2', 508.8366152342975, 57.53125670917379, 2.512045488060341] are within bounds!\n",
      "\u001b[0m\u001b[1;33m[WARNING] Not all parameters are within bounds\n",
      "\u001b[0m\u001b[1;33m[WARNING] Not all parameters of ['L6', 574.0173511951253, 107.37296885457037, 2.512349951247711] are within bounds!\n",
      "\u001b[0m\u001b[1;33m[WARNING] Not all parameters are within bounds\n",
      "\u001b[0m\u001b[1;33m[WARNING] Not all parameters of ['L1', 396.60558423350557, 109.45028615079858, 2.5144812707876554] are within bounds!\n",
      "\u001b[0m\u001b[1;33m[WARNING] Not all parameters are within bounds\n",
      "\u001b[0m\u001b[1;33m[WARNING] Not all parameters of ['L1', 275.4731977851375, 44.12369649409257, 2.514520143376722] are within bounds!\n",
      "\u001b[0m\u001b[1;33m[WARNING] Not all parameters are within bounds\n",
      "\u001b[0m\u001b[1;33m[WARNING] Not all parameters of ['L3', 314.4440439223655, 31.274232167010794, 2.511031875208511] are within bounds!\n",
      "\u001b[0m\u001b[1;33m[WARNING] Not all parameters are within bounds\n",
      "\u001b[0m\u001b[1;33m[WARNING] Not all parameters of ['L6', 304.27228596197415, 92.76842547455907, 2.5123055215176517] are within bounds!\n",
      "\u001b[0m\u001b[1;33m[WARNING] Not all parameters are within bounds\n",
      "\u001b[0m\u001b[1;33m[WARNING] Not all parameters of ['L1', 531.4024022427459, 49.230272923977736, 2.5103324010179] are within bounds!\n",
      "\u001b[0m\u001b[1;33m[WARNING] Not all parameters are within bounds\n",
      "\u001b[0m\u001b[1;33m[WARNING] Not all parameters of ['L3', 192.72209747973037, 56.92154007834846, 2.5112953201873003] are within bounds!\n",
      "\u001b[0m\u001b[1;33m[WARNING] Not all parameters are within bounds\n",
      "\u001b[0m\u001b[1;33m[WARNING] Not all parameters of ['L1', 72.19247891941662, 35.1708127876221, 2.510427669135777] are within bounds!\n",
      "\u001b[0m\u001b[1;33m[WARNING] Not all parameters are within bounds\n",
      "\u001b[0m\u001b[1;33m[WARNING] Not all parameters of ['L7', 286.01635934261935, 65.34150713735741, 2.514084695569154] are within bounds!\n",
      "\u001b[0m\u001b[1;33m[WARNING] Not all parameters are within bounds\n",
      "\u001b[0m\u001b[1;33m[WARNING] Not all parameters of ['L7', 432.1820732248253, 95.29819896968768, 2.5108032492504213] are within bounds!\n",
      "\u001b[0m\u001b[1;33m[WARNING] Not all parameters are within bounds\n",
      "\u001b[0m\u001b[1;33m[WARNING] Not all parameters of ['L1', 576.1884968750018, 83.08718386651297, 2.5122101768920233] are within bounds!\n",
      "\u001b[0m\u001b[1;33m[WARNING] Not all parameters are within bounds\n",
      "\u001b[0m\u001b[1;33m[WARNING] Not all parameters of ['L2', 251.2361645545999, 82.06625526222729, 2.5139998095156733] are within bounds!\n",
      "\u001b[0m\u001b[1;33m[WARNING] Not all parameters are within bounds\n",
      "\u001b[0m\u001b[1;33m[WARNING] Not all parameters of ['L6', 86.27185564673361, 44.66062855516412, 2.510065697701479] are within bounds!\n",
      "\u001b[0m\u001b[1;33m[WARNING] Not all parameters are within bounds\n",
      "\u001b[0m\u001b[1;33m[WARNING] Not all parameters of ['L5', 316.8930488467028, 58.13408924070919, 2.5113830009813984] are within bounds!\n",
      "\u001b[0m\u001b[1;33m[WARNING] Not all parameters are within bounds\n",
      "\u001b[0m\u001b[1;33m[WARNING] Not all parameters of ['L5', 572.2300691111168, 89.02760613580489, 2.5135630929308865] are within bounds!\n",
      "\u001b[0m\u001b[1;33m[WARNING] Not all parameters are within bounds\n",
      "\u001b[0m\u001b[1;33m[WARNING] Not all parameters of ['L2', 351.25635024708953, 61.10126733917035, 2.5125782529731504] are within bounds!\n",
      "\u001b[0m\u001b[1;33m[WARNING] Not all parameters are within bounds\n",
      "\u001b[0m"
     ]
    }
   ],
   "source": [
    "y_i, _, __= emulator_i.run(X)\n",
    "y_ii, _, __= emulator_ii.run(X)\n",
    "y_iii, _, __= emulator_iii.run(X)\n",
    "y_iv, _, __= emulator_iv.run(X)"
   ]
  },
  {
   "cell_type": "code",
   "execution_count": 26,
   "id": "3dec9762",
   "metadata": {},
   "outputs": [
    {
     "data": {
      "text/plain": [
       "(10000, 4, 2)"
      ]
     },
     "execution_count": 26,
     "metadata": {},
     "output_type": "execute_result"
    }
   ],
   "source": [
    "y = np.stack((y_i, y_ii, y_iii, y_iv), axis=-2)\n",
    "y.shape"
   ]
  },
  {
   "cell_type": "code",
   "execution_count": 27,
   "id": "bc2702a1",
   "metadata": {},
   "outputs": [
    {
     "data": {
      "text/plain": [
       "(10000, 2)"
      ]
     },
     "execution_count": 27,
     "metadata": {},
     "output_type": "execute_result"
    }
   ],
   "source": [
    "y_mean = np.mean(y,axis=-2)\n",
    "y_mean.shape"
   ]
  },
  {
   "cell_type": "code",
   "execution_count": 28,
   "id": "7a6c011a",
   "metadata": {},
   "outputs": [
    {
     "data": {
      "text/plain": [
       "5565.551219834783"
      ]
     },
     "execution_count": 28,
     "metadata": {},
     "output_type": "execute_result"
    }
   ],
   "source": [
    "# compute average hypervolume for each point\n",
    "# merits = scalarizer.scalarize(y_mean)\n",
    "# print(merits.shape)\n",
    "# best_idx = np.argmin(merits)\n",
    "# print(merits[best_idx])\n",
    "# print(y_mean[best_idx])\n",
    "# best_X = X[best_idx]\n",
    "# print(best_X)\n",
    "w_ref = np.array([-0., -0.])\n",
    "\n",
    "merits = get_hypervolume(-y_mean, w_ref)\n",
    "merits"
   ]
  },
  {
   "cell_type": "code",
   "execution_count": null,
   "id": "6b688199",
   "metadata": {},
   "outputs": [],
   "source": []
  },
  {
   "cell_type": "code",
   "execution_count": null,
   "id": "4295b83a",
   "metadata": {},
   "outputs": [],
   "source": []
  },
  {
   "cell_type": "markdown",
   "id": "10151e3a",
   "metadata": {},
   "source": [
    "## Analyze results"
   ]
  },
  {
   "cell_type": "code",
   "execution_count": 51,
   "id": "341b14c0",
   "metadata": {},
   "outputs": [
    {
     "data": {
      "text/plain": [
       "(10, 20)"
      ]
     },
     "execution_count": 51,
     "metadata": {},
     "output_type": "execute_result"
    }
   ],
   "source": [
    "res_gen = pickle.load(open('general_results.pkl', 'rb'))\n",
    "res_full = pickle.load(open('full_obj_results.pkl', 'rb'))\n",
    "len(res_gen), len(res_full)"
   ]
  },
  {
   "cell_type": "code",
   "execution_count": 52,
   "id": "93d0476a",
   "metadata": {},
   "outputs": [
    {
     "name": "stdout",
     "output_type": "stream",
     "text": [
      "3465.4790852908045 148.1312120166325\n"
     ]
    }
   ],
   "source": [
    "w_ref = np.array([-0., -0.])\n",
    "\n",
    "hvols_gen = []\n",
    "hvols_full = []\n",
    "# compute hypervolumes after experiment terminated\n",
    "for res in res_gen:\n",
    "    hvol = get_hypervolume(-res[['yield', 'turnover']].values, w_ref)\n",
    "    hvols_gen.append(hvol)\n",
    "for res in res_full:\n",
    "    hvol = get_hypervolume(-res[['yield', 'turnover']].values, w_ref)\n",
    "    hvols_full.append(hvol)\n",
    "    \n",
    "plot_df = pd.DataFrame({\n",
    "    'strategy': ['general' for _ in range(len(res_gen))] + ['full_obj' for _ in range(len(res_full))],\n",
    "    'hvol': hvols_gen+hvols_full,\n",
    "})\n",
    "\n",
    "max_, min_ = plot_df['hvol'].max(), plot_df['hvol'].min()\n",
    "print(max_, min_)\n",
    "plot_df['norm_hvol'] = (plot_df['hvol'] - min_) /(max_-min_)"
   ]
  },
  {
   "cell_type": "code",
   "execution_count": 53,
   "id": "df70809b",
   "metadata": {},
   "outputs": [
    {
     "data": {
      "text/plain": [
       "<Axes: xlabel='strategy', ylabel='hvol'>"
      ]
     },
     "execution_count": 53,
     "metadata": {},
     "output_type": "execute_result"
    },
    {
     "data": {
      "image/png": "[encoded data removed]",
      "text/plain": [
       "<Figure size 640x480 with 1 Axes>"
      ]
     },
     "metadata": {},
     "output_type": "display_data"
    }
   ],
   "source": [
    "fig, ax = plt.subplots()\n",
    "\n",
    "sns.boxplot(data=plot_df, x='strategy', y='hvol', ax=ax)\n",
    "sns.stripplot(data=plot_df, x='strategy', y='hvol', ax=ax)\n",
    "\n",
    "#ax.axhline(merits, c='k', ls='--', alpha=0.5)"
   ]
  },
  {
   "cell_type": "code",
   "execution_count": 54,
   "id": "741bef89",
   "metadata": {},
   "outputs": [
    {
     "data": {
      "text/plain": [
       "<Axes: xlabel='strategy', ylabel='norm_hvol'>"
      ]
     },
     "execution_count": 54,
     "metadata": {},
     "output_type": "execute_result"
    },
    {
     "data": {
      "image/png": "[encoded data removed]",
      "text/plain": [
       "<Figure size 640x480 with 1 Axes>"
      ]
     },
     "metadata": {},
     "output_type": "display_data"
    }
   ],
   "source": [
    "fig, ax = plt.subplots()\n",
    "\n",
    "sns.boxplot(data=plot_df, x='strategy', y='norm_hvol', ax=ax)\n",
    "sns.stripplot(data=plot_df, x='strategy', y='norm_hvol', ax=ax)"
   ]
  },
  {
   "cell_type": "code",
   "execution_count": 42,
   "id": "06768969",
   "metadata": {},
   "outputs": [
    {
     "data": {
      "text/plain": [
       "<matplotlib.legend.Legend at 0x28cc9e170>"
      ]
     },
     "execution_count": 42,
     "metadata": {},
     "output_type": "execute_result"
    },
    {
     "data": {
      "image/png": "[encoded data removed]",
      "text/plain": [
       "<Figure size 640x480 with 1 Axes>"
      ]
     },
     "metadata": {},
     "output_type": "display_data"
    }
   ],
   "source": [
    "fig, ax = plt.subplots()\n",
    "\n",
    "run_ix = 2\n",
    "obj_gen = res_gen[run_ix][['yield', 'turnover']].values\n",
    "obj_full = res_full[run_ix][['yield', 'turnover']].values\n",
    "\n",
    "ax.scatter(obj_gen[:,0], obj_gen[:,1], c='#D17B0F', label='general')\n",
    "ax.scatter(obj_full[:,0], obj_full[:,1], c='#05201c', label='full obj')\n",
    "\n",
    "ax.set_xlabel('yield')\n",
    "ax.set_ylabel('turnover number')\n",
    "\n",
    "ax.legend()"
   ]
  },
  {
   "cell_type": "code",
   "execution_count": 7,
   "id": "9f735d53",
   "metadata": {},
   "outputs": [
    {
     "data": {
      "text/html": [
       "<div>\n",
       "<style scoped>\n",
       "    .dataframe tbody tr th:only-of-type {\n",
       "        vertical-align: middle;\n",
       "    }\n",
       "\n",
       "    .dataframe tbody tr th {\n",
       "        vertical-align: top;\n",
       "    }\n",
       "\n",
       "    .dataframe thead th {\n",
       "        text-align: right;\n",
       "    }\n",
       "</style>\n",
       "<table border=\"1\" class=\"dataframe\">\n",
       "  <thead>\n",
       "    <tr style=\"text-align: right;\">\n",
       "      <th></th>\n",
       "      <th>ligand</th>\n",
       "      <th>res_time</th>\n",
       "      <th>temperature</th>\n",
       "      <th>catalyst_loading</th>\n",
       "      <th>yield</th>\n",
       "      <th>turnover</th>\n",
       "    </tr>\n",
       "  </thead>\n",
       "  <tbody>\n",
       "    <tr>\n",
       "      <th>0</th>\n",
       "      <td>L6</td>\n",
       "      <td>347.8722271633963</td>\n",
       "      <td>56.57927201814378</td>\n",
       "      <td>1.7929186343279941</td>\n",
       "      <td>2.936673</td>\n",
       "      <td>1.277719</td>\n",
       "    </tr>\n",
       "    <tr>\n",
       "      <th>1</th>\n",
       "      <td>L5</td>\n",
       "      <td>473.10093526724694</td>\n",
       "      <td>71.64951283622254</td>\n",
       "      <td>2.177523619819587</td>\n",
       "      <td>11.068687</td>\n",
       "      <td>3.693981</td>\n",
       "    </tr>\n",
       "    <tr>\n",
       "      <th>2</th>\n",
       "      <td>L1</td>\n",
       "      <td>361.25871090328855</td>\n",
       "      <td>108.62646678420101</td>\n",
       "      <td>0.822652973083017</td>\n",
       "      <td>35.568665</td>\n",
       "      <td>41.557316</td>\n",
       "    </tr>\n",
       "    <tr>\n",
       "      <th>3</th>\n",
       "      <td>L6</td>\n",
       "      <td>185.15648904664425</td>\n",
       "      <td>103.59050010597421</td>\n",
       "      <td>1.6338786283842317</td>\n",
       "      <td>30.104570</td>\n",
       "      <td>12.589710</td>\n",
       "    </tr>\n",
       "    <tr>\n",
       "      <th>4</th>\n",
       "      <td>L1</td>\n",
       "      <td>507.4591583620329</td>\n",
       "      <td>85.69031561819514</td>\n",
       "      <td>1.927204743619781</td>\n",
       "      <td>43.400352</td>\n",
       "      <td>20.169090</td>\n",
       "    </tr>\n",
       "    <tr>\n",
       "      <th>5</th>\n",
       "      <td>L1</td>\n",
       "      <td>220.57748325927471</td>\n",
       "      <td>109.9997834221465</td>\n",
       "      <td>0.49801115557028985</td>\n",
       "      <td>20.904367</td>\n",
       "      <td>52.529768</td>\n",
       "    </tr>\n",
       "    <tr>\n",
       "      <th>6</th>\n",
       "      <td>L1</td>\n",
       "      <td>421.7947036872011</td>\n",
       "      <td>109.99842524449897</td>\n",
       "      <td>2.018741059368944</td>\n",
       "      <td>58.357237</td>\n",
       "      <td>28.451304</td>\n",
       "    </tr>\n",
       "    <tr>\n",
       "      <th>7</th>\n",
       "      <td>L1</td>\n",
       "      <td>599.9979454132231</td>\n",
       "      <td>109.99986274789684</td>\n",
       "      <td>2.3645272835691524</td>\n",
       "      <td>58.201728</td>\n",
       "      <td>25.721670</td>\n",
       "    </tr>\n",
       "  </tbody>\n",
       "</table>\n",
       "</div>"
      ],
      "text/plain": [
       "  ligand            res_time         temperature     catalyst_loading  \\\n",
       "0     L6   347.8722271633963   56.57927201814378   1.7929186343279941   \n",
       "1     L5  473.10093526724694   71.64951283622254    2.177523619819587   \n",
       "2     L1  361.25871090328855  108.62646678420101    0.822652973083017   \n",
       "3     L6  185.15648904664425  103.59050010597421   1.6338786283842317   \n",
       "4     L1   507.4591583620329   85.69031561819514    1.927204743619781   \n",
       "5     L1  220.57748325927471   109.9997834221465  0.49801115557028985   \n",
       "6     L1   421.7947036872011  109.99842524449897    2.018741059368944   \n",
       "7     L1   599.9979454132231  109.99986274789684   2.3645272835691524   \n",
       "\n",
       "       yield   turnover  \n",
       "0   2.936673   1.277719  \n",
       "1  11.068687   3.693981  \n",
       "2  35.568665  41.557316  \n",
       "3  30.104570  12.589710  \n",
       "4  43.400352  20.169090  \n",
       "5  20.904367  52.529768  \n",
       "6  58.357237  28.451304  \n",
       "7  58.201728  25.721670  "
      ]
     },
     "execution_count": 7,
     "metadata": {},
     "output_type": "execute_result"
    }
   ],
   "source": [
    "res_full[3]"
   ]
  },
  {
   "cell_type": "code",
   "execution_count": null,
   "id": "8ab94b1a",
   "metadata": {},
   "outputs": [],
   "source": []
  }
 ],
 "metadata": {
  "kernelspec": {
   "display_name": "atlas_aag",
   "language": "python",
   "name": "atlas_aag"
  },
  "language_info": {
   "codemirror_mode": {
    "name": "ipython",
    "version": 3
   },
   "file_extension": ".py",
   "mimetype": "text/x-python",
   "name": "python",
   "nbconvert_exporter": "python",
   "pygments_lexer": "ipython3",
   "version": "3.10.12"
  }
 },
 "nbformat": 4,
 "nbformat_minor": 5
}
